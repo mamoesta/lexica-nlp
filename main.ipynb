{
 "cells": [
  {
   "cell_type": "code",
   "execution_count": 37,
   "metadata": {},
   "outputs": [],
   "source": [
    "import requests\n",
    "import pandas as pd\n",
    "from random_word import Wordnik\n",
    "import time\n",
    "import math"
   ]
  },
  {
   "cell_type": "code",
   "execution_count": 62,
   "metadata": {},
   "outputs": [
    {
     "name": "stdout",
     "output_type": "stream",
     "text": [
      "Searching term:  hiver\n",
      "Adding items to db for search term:  hiver\n",
      "Searching term:  swillings\n",
      "Adding items to db for search term:  swillings\n",
      "Searching term:  repositor\n",
      "Adding items to db for search term:  repositor\n",
      "Searching term:  sportiveness\n",
      "Adding items to db for search term:  sportiveness\n",
      "Searching term:  discontinuance\n",
      "Adding items to db for search term:  discontinuance\n",
      "Searching term:  colourization\n",
      "Adding items to db for search term:  colourization\n",
      "Searching term:  Orozco\n",
      "Adding items to db for search term:  Orozco\n",
      "Searching term:  jack-fool\n",
      "Adding items to db for search term:  jack-fool\n",
      "Searching term:  cochairs\n",
      "Adding items to db for search term:  cochairs\n",
      "Searching term:  venge\n",
      "Adding items to db for search term:  venge\n"
     ]
    },
    {
     "data": {
      "text/html": [
       "<div>\n",
       "<style scoped>\n",
       "    .dataframe tbody tr th:only-of-type {\n",
       "        vertical-align: middle;\n",
       "    }\n",
       "\n",
       "    .dataframe tbody tr th {\n",
       "        vertical-align: top;\n",
       "    }\n",
       "\n",
       "    .dataframe thead th {\n",
       "        text-align: right;\n",
       "    }\n",
       "</style>\n",
       "<table border=\"1\" class=\"dataframe\">\n",
       "  <thead>\n",
       "    <tr style=\"text-align: right;\">\n",
       "      <th></th>\n",
       "      <th>source</th>\n",
       "      <th>prompt</th>\n",
       "    </tr>\n",
       "  </thead>\n",
       "  <tbody>\n",
       "    <tr>\n",
       "      <th>040942f3-0b15-49e2-866a-ef5873e92c9d</th>\n",
       "      <td>https://lexica-serve-encoded-images.sharif.wor...</td>\n",
       "      <td>portrait focus of knight beautiful 3 d anime g...</td>\n",
       "    </tr>\n",
       "    <tr>\n",
       "      <th>0b2d0850-e29d-4917-8fe7-334a3c929e5c</th>\n",
       "      <td>https://lexica-serve-encoded-images.sharif.wor...</td>\n",
       "      <td>a chibi kawaii red haired girl with winter clo...</td>\n",
       "    </tr>\n",
       "    <tr>\n",
       "      <th>102a6044-bc8c-4d95-8d35-0cd66a41b280</th>\n",
       "      <td>https://lexica-serve-encoded-images.sharif.wor...</td>\n",
       "      <td>a instax photo of a petite japanese girl in a ...</td>\n",
       "    </tr>\n",
       "    <tr>\n",
       "      <th>15e35bd1-1754-4e28-a9c3-7d6987310db7</th>\n",
       "      <td>https://lexica-serve-encoded-images.sharif.wor...</td>\n",
       "      <td>walking amongst the stars, concept art, Kyoto ...</td>\n",
       "    </tr>\n",
       "    <tr>\n",
       "      <th>1a15ed51-020f-4b5f-b39c-406a33c0096c</th>\n",
       "      <td>https://lexica-serve-encoded-images.sharif.wor...</td>\n",
       "      <td>Portrait of a white haired anime girl wearing ...</td>\n",
       "    </tr>\n",
       "  </tbody>\n",
       "</table>\n",
       "</div>"
      ],
      "text/plain": [
       "                                                                                 source  \\\n",
       "040942f3-0b15-49e2-866a-ef5873e92c9d  https://lexica-serve-encoded-images.sharif.wor...   \n",
       "0b2d0850-e29d-4917-8fe7-334a3c929e5c  https://lexica-serve-encoded-images.sharif.wor...   \n",
       "102a6044-bc8c-4d95-8d35-0cd66a41b280  https://lexica-serve-encoded-images.sharif.wor...   \n",
       "15e35bd1-1754-4e28-a9c3-7d6987310db7  https://lexica-serve-encoded-images.sharif.wor...   \n",
       "1a15ed51-020f-4b5f-b39c-406a33c0096c  https://lexica-serve-encoded-images.sharif.wor...   \n",
       "\n",
       "                                                                                 prompt  \n",
       "040942f3-0b15-49e2-866a-ef5873e92c9d  portrait focus of knight beautiful 3 d anime g...  \n",
       "0b2d0850-e29d-4917-8fe7-334a3c929e5c  a chibi kawaii red haired girl with winter clo...  \n",
       "102a6044-bc8c-4d95-8d35-0cd66a41b280  a instax photo of a petite japanese girl in a ...  \n",
       "15e35bd1-1754-4e28-a9c3-7d6987310db7  walking amongst the stars, concept art, Kyoto ...  \n",
       "1a15ed51-020f-4b5f-b39c-406a33c0096c  Portrait of a white haired anime girl wearing ...  "
      ]
     },
     "execution_count": 62,
     "metadata": {},
     "output_type": "execute_result"
    }
   ],
   "source": [
    "def generate_search_strings(num_items: int):    \n",
    "    batch_size = 10\n",
    "    num_calls = math.ceil(num_items/batch_size)\n",
    "    output = []\n",
    "    wordnik_service = Wordnik()\n",
    "    for i in range(num_calls):\n",
    "        # Return a single random word\n",
    "        res = wordnik_service.get_random_words(includePartOfSpeech =\"noun,verb,adverb\",hasDictionaryDef=True, limit=batch_size)\n",
    "        #TODO: Check if adding a duplicate search term\n",
    "        [output.append(x) for x in res]\n",
    "    return output\n",
    "\n",
    "def lexica_search(terms: list):\n",
    "    search_base='https://lexica.art/api/v1/search?q='\n",
    "    prompts = pd.DataFrame(columns=['source','prompt'])\n",
    "    for item in terms:\n",
    "        print('Searching term: ' , item)\n",
    "        query = item\n",
    "        query = query.replace(' ', '+')\n",
    "        try:\n",
    "            d = requests.get(url=(search_base + query))\n",
    "            data = d.json()\n",
    "            obj = data['images']\n",
    "        except:\n",
    "            print(\"API Rate limited!\")\n",
    "            return prompts\n",
    "        print('Adding items to db for search term: ', item)\n",
    "        for item in obj:\n",
    "            row = [item['src'],item['prompt']]\n",
    "            prompts.loc[item['id']] = row\n",
    "        time.sleep(3)\n",
    "    return prompts\n",
    "\n",
    "terms = generate_search_strings(num_items=5)\n",
    "res = lexica_search(terms=terms)\n",
    "res.head()\n"
   ]
  },
  {
   "cell_type": "code",
   "execution_count": 54,
   "metadata": {},
   "outputs": [
    {
     "data": {
      "text/plain": [
       "(50, 2)"
      ]
     },
     "execution_count": 54,
     "metadata": {},
     "output_type": "execute_result"
    }
   ],
   "source": [
    "search_base='https://lexica.art/api/v1/search?q='\n",
    "query='in the style of'\n",
    "query = query.replace(' ', '+')\n",
    "d = requests.get(url=(search_base + query))\n",
    "data = d.json()\n",
    "obj = data['images']\n",
    "images = pd.DataFrame(columns=['source','prompt'])\n",
    "for item in obj:\n",
    "    row = [item['src'],item['prompt']]\n",
    "    images.loc[item['id']] = row\n"
   ]
  },
  {
   "cell_type": "code",
   "execution_count": 31,
   "metadata": {},
   "outputs": [
    {
     "data": {
      "text/plain": [
       "list"
      ]
     },
     "execution_count": 31,
     "metadata": {},
     "output_type": "execute_result"
    }
   ],
   "source": [
    "wordnik_service = Wordnik()\n",
    "res = wordnik_service.get_random_words(includePartOfSpeech =\"noun,verb,adverb\",hasDictionaryDef=True, limit=50)\n",
    "\n",
    "type(res)"
   ]
  }
 ],
 "metadata": {
  "kernelspec": {
   "display_name": "Python 3.10.6 ('venv')",
   "language": "python",
   "name": "python3"
  },
  "language_info": {
   "codemirror_mode": {
    "name": "ipython",
    "version": 3
   },
   "file_extension": ".py",
   "mimetype": "text/x-python",
   "name": "python",
   "nbconvert_exporter": "python",
   "pygments_lexer": "ipython3",
   "version": "3.10.6"
  },
  "orig_nbformat": 4,
  "vscode": {
   "interpreter": {
    "hash": "e78432f6f3f29575f54084a0f731ad3137b13602a47f5f61425d7f4341eae791"
   }
  }
 },
 "nbformat": 4,
 "nbformat_minor": 2
}
