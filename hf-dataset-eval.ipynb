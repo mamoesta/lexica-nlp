{
 "cells": [
  {
   "cell_type": "code",
   "execution_count": 50,
   "metadata": {},
   "outputs": [
    {
     "name": "stderr",
     "output_type": "stream",
     "text": [
      "Using custom data configuration Gustavosta--Stable-Diffusion-Prompts-d22aeec0ba2a9fdb\n",
      "Found cached dataset parquet (/Users/martymoesta/.cache/huggingface/datasets/Gustavosta___parquet/Gustavosta--Stable-Diffusion-Prompts-d22aeec0ba2a9fdb/0.0.0/2a3b91fbd88a2c90d1dbbb32b460cf621d31bd5b05b934492fdef7d8d6f236ec)\n"
     ]
    }
   ],
   "source": [
    "from datasets import load_dataset\n",
    "import spacy\n",
    "from spacy.tokens import DocBin\n",
    "nlp = spacy.load(\"en_core_web_sm\")\n",
    "\n",
    "dataset = load_dataset(\"Gustavosta/Stable-Diffusion-Prompts\", split = 'train')"
   ]
  },
  {
   "cell_type": "code",
   "execution_count": 51,
   "metadata": {},
   "outputs": [],
   "source": [
    "eval_set = []\n",
    "for item in dataset['Prompt'][0:100]:\n",
    "   eval_set.append(item)\n",
    "db = DocBin()\n",
    "for item in eval_set:\n",
    "    doc = nlp(item)\n",
    "    db.add(doc)\n",
    "db.to_disk('./eval-docs.spacy')"
   ]
  }
 ],
 "metadata": {
  "kernelspec": {
   "display_name": "Python 3.10.8 ('venv')",
   "language": "python",
   "name": "python3"
  },
  "language_info": {
   "codemirror_mode": {
    "name": "ipython",
    "version": 3
   },
   "file_extension": ".py",
   "mimetype": "text/x-python",
   "name": "python",
   "nbconvert_exporter": "python",
   "pygments_lexer": "ipython3",
   "version": "3.10.8"
  },
  "orig_nbformat": 4,
  "vscode": {
   "interpreter": {
    "hash": "e78432f6f3f29575f54084a0f731ad3137b13602a47f5f61425d7f4341eae791"
   }
  }
 },
 "nbformat": 4,
 "nbformat_minor": 2
}
